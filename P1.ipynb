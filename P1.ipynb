{
 "cells": [
  {
   "cell_type": "markdown",
   "metadata": {},
   "source": [
    "# Projeto 1 - Ciência dos Dados"
   ]
  },
  {
   "cell_type": "markdown",
   "metadata": {},
   "source": [
    "Nome: Rafael Roismann\n",
    "\n",
    "Nome: Rafael Curie Raiz"
   ]
  },
  {
   "cell_type": "markdown",
   "metadata": {},
   "source": [
    "Atenção: Serão permitidos grupos de três pessoas, mas com uma rubrica mais exigente. Grupos deste tamanho precisarão fazer um questionário de avaliação de trabalho em equipe"
   ]
  },
  {
   "cell_type": "markdown",
   "metadata": {},
   "source": [
    "___\n",
    "Carregando algumas bibliotecas:"
   ]
  },
  {
   "cell_type": "code",
   "execution_count": 38,
   "metadata": {},
   "outputs": [],
   "source": [
    "%matplotlib inline\n",
    "import pandas as pd\n",
    "import matplotlib.pyplot as plt\n",
    "import numpy as np\n",
    "import os"
   ]
  },
  {
   "cell_type": "code",
   "execution_count": 39,
   "metadata": {
    "scrolled": false
   },
   "outputs": [
    {
     "name": "stdout",
     "output_type": "stream",
     "text": [
      "Esperamos trabalhar no diretório\n",
      "c:\\Users\\Rafael\\OneDrive - Insper - Institudo de Ensino e Pesquisa\\2023.2\\CIÊNCIA DOS DADOS\\Projeto 01\n"
     ]
    }
   ],
   "source": [
    "print('Esperamos trabalhar no diretório')\n",
    "print(os.getcwd())"
   ]
  },
  {
   "cell_type": "markdown",
   "metadata": {},
   "source": [
    "Carregando a base de dados com os tweets classificados manualmente:"
   ]
  },
  {
   "cell_type": "code",
   "execution_count": 40,
   "metadata": {},
   "outputs": [
    {
     "data": {
      "text/html": [
       "<div>\n",
       "<style scoped>\n",
       "    .dataframe tbody tr th:only-of-type {\n",
       "        vertical-align: middle;\n",
       "    }\n",
       "\n",
       "    .dataframe tbody tr th {\n",
       "        vertical-align: top;\n",
       "    }\n",
       "\n",
       "    .dataframe thead th {\n",
       "        text-align: right;\n",
       "    }\n",
       "</style>\n",
       "<table border=\"1\" class=\"dataframe\">\n",
       "  <thead>\n",
       "    <tr style=\"text-align: right;\">\n",
       "      <th></th>\n",
       "      <th>Mensagem</th>\n",
       "      <th>Classificacao</th>\n",
       "    </tr>\n",
       "  </thead>\n",
       "  <tbody>\n",
       "    <tr>\n",
       "      <th>0</th>\n",
       "      <td>Um livro para ler e jogar fora e sem comentar ...</td>\n",
       "      <td>1</td>\n",
       "    </tr>\n",
       "    <tr>\n",
       "      <th>1</th>\n",
       "      <td>Varios personagens sem desfecho, final sem pé ...</td>\n",
       "      <td>1</td>\n",
       "    </tr>\n",
       "    <tr>\n",
       "      <th>2</th>\n",
       "      <td>Realmente. Deixou muito a desejar. Esperei um ...</td>\n",
       "      <td>1</td>\n",
       "    </tr>\n",
       "    <tr>\n",
       "      <th>3</th>\n",
       "      <td>amei o livro inteiro, mas confesso que o final...</td>\n",
       "      <td>1</td>\n",
       "    </tr>\n",
       "    <tr>\n",
       "      <th>4</th>\n",
       "      <td>A tradução é péssima e diferente do original. ...</td>\n",
       "      <td>0</td>\n",
       "    </tr>\n",
       "  </tbody>\n",
       "</table>\n",
       "</div>"
      ],
      "text/plain": [
       "                                            Mensagem  Classificacao\n",
       "0  Um livro para ler e jogar fora e sem comentar ...              1\n",
       "1  Varios personagens sem desfecho, final sem pé ...              1\n",
       "2  Realmente. Deixou muito a desejar. Esperei um ...              1\n",
       "3  amei o livro inteiro, mas confesso que o final...              1\n",
       "4  A tradução é péssima e diferente do original. ...              0"
      ]
     },
     "execution_count": 40,
     "metadata": {},
     "output_type": "execute_result"
    }
   ],
   "source": [
    "train = pd.read_excel('dados_treino.xlsx')\n",
    "train.head(5)\n",
    "#train.tail(5)"
   ]
  },
  {
   "cell_type": "code",
   "execution_count": 41,
   "metadata": {},
   "outputs": [
    {
     "data": {
      "text/html": [
       "<div>\n",
       "<style scoped>\n",
       "    .dataframe tbody tr th:only-of-type {\n",
       "        vertical-align: middle;\n",
       "    }\n",
       "\n",
       "    .dataframe tbody tr th {\n",
       "        vertical-align: top;\n",
       "    }\n",
       "\n",
       "    .dataframe thead th {\n",
       "        text-align: right;\n",
       "    }\n",
       "</style>\n",
       "<table border=\"1\" class=\"dataframe\">\n",
       "  <thead>\n",
       "    <tr style=\"text-align: right;\">\n",
       "      <th></th>\n",
       "      <th>Mensagem</th>\n",
       "      <th>Classificacao</th>\n",
       "    </tr>\n",
       "  </thead>\n",
       "  <tbody>\n",
       "    <tr>\n",
       "      <th>0</th>\n",
       "      <td>O que foi isto que recebi aqui em casa, mas di...</td>\n",
       "      <td>0</td>\n",
       "    </tr>\n",
       "    <tr>\n",
       "      <th>1</th>\n",
       "      <td>O livro é uma mera propagando de leitura dinâm...</td>\n",
       "      <td>1</td>\n",
       "    </tr>\n",
       "    <tr>\n",
       "      <th>2</th>\n",
       "      <td>A história pode ser boa, a leitura é muito can...</td>\n",
       "      <td>1</td>\n",
       "    </tr>\n",
       "    <tr>\n",
       "      <th>3</th>\n",
       "      <td>Achei que o livro mostra apenas oque o senso c...</td>\n",
       "      <td>1</td>\n",
       "    </tr>\n",
       "    <tr>\n",
       "      <th>4</th>\n",
       "      <td>Não gostei muito do livro, ele é todo escrito ...</td>\n",
       "      <td>1</td>\n",
       "    </tr>\n",
       "  </tbody>\n",
       "</table>\n",
       "</div>"
      ],
      "text/plain": [
       "                                            Mensagem  Classificacao\n",
       "0  O que foi isto que recebi aqui em casa, mas di...              0\n",
       "1  O livro é uma mera propagando de leitura dinâm...              1\n",
       "2  A história pode ser boa, a leitura é muito can...              1\n",
       "3  Achei que o livro mostra apenas oque o senso c...              1\n",
       "4  Não gostei muito do livro, ele é todo escrito ...              1"
      ]
     },
     "execution_count": 41,
     "metadata": {},
     "output_type": "execute_result"
    }
   ],
   "source": [
    "test = pd.read_excel('dados_teste.xlsx')\n",
    "test.head(5)"
   ]
  },
  {
   "cell_type": "markdown",
   "metadata": {},
   "source": [
    "___\n",
    "## Classificador automático\n"
   ]
  },
  {
   "cell_type": "markdown",
   "metadata": {},
   "source": [
    "Abaixo foi criado um classificador segundo a teoria de probabilidade de *Naive Bayes*, nessa classificação foram utilizados os dois critérios abaixo para a classificação das frases:\n",
    "\n",
    "* **Critica sobre conteúdo do livro:** Dentro do escopo de nossa análise, todos os comentários que mencionam o autor da obra ou oferecem alguma forma de avaliação em relação ao seu conteúdo no livro foram cuidadosamente categorizados sob a classificação '1'. Essa classificação abrange uma ampla gama de comentários que exploram diversos aspectos da obra, desde a qualidade da narrativa até as críticas construtivas e as opiniões pessoais dos leitores. Ao examinarmos os comentários, consideramos não apenas as observações objetivas relacionadas ao livro, como sua trama, personagens e estilo de escrita, mas também as percepções subjetivas dos leitores em relação às expectativas que tinham antes de ler o livro e as eventuais frustrações que possam ter surgido durante a leitura.\n",
    "\n",
    "* **Criticas Sobre serviço da amazom e relacionados:** Esse item refere-se às frases previamente identificadas como comentários relativos ao serviço, ou a qualquer aspecto relacionado, como a entrega do produto ou a qualidade da tradução do livro. Essas frases abrangem as opiniões, observações e feedback dos clientes em relação à experiência que tiveram com o serviço em questão, bem como quaisquer serviços complementares, como a entrega ou a tradução do livro."
   ]
  },
  {
   "cell_type": "markdown",
   "metadata": {},
   "source": [
    "___\n",
    "### Montando um Classificador Naive-Bayes\n",
    "\n",
    "Considerando apenas as mensagens da planilha Treinamento, ensine  seu classificador."
   ]
  },
  {
   "cell_type": "markdown",
   "metadata": {},
   "source": [
    "#### 1- Limpando o DataFrame"
   ]
  },
  {
   "cell_type": "code",
   "execution_count": 42,
   "metadata": {},
   "outputs": [],
   "source": [
    "# https://docs.python.org/3/library/re.html#\n",
    "import re \n",
    "\n",
    "\n",
    "def cleanup(text):\n",
    "    \"\"\"\n",
    "        Função de limpeza muito simples que troca alguns sinais básicos por espaços\n",
    "    \"\"\"\n",
    "    #import string\n",
    "    punctuation = '[´\"!-.:?;$'']' # Note que os sinais [] são delimitadores de um conjunto.\n",
    "    pattern = re.compile(punctuation)\n",
    "    text_subbed = re.sub(pattern, '', text)\n",
    "    return text_subbed\n",
    "    "
   ]
  },
  {
   "cell_type": "markdown",
   "metadata": {},
   "source": [
    "#### 2 - Fitrando as frases\n",
    "\n",
    "Na seção abaixo, usaremos a função acima para limpar o Dataframe e filtramos cada frase de acordo com sua classificação em relação a classificação pré definida anterioremnte, o Target do projeto."
   ]
  },
  {
   "cell_type": "code",
   "execution_count": null,
   "metadata": {},
   "outputs": [],
   "source": [
    "# Criando as listas que armazenarão as palavras das frases nos respectivos grupos\n",
    "\n",
    "# Grupo 0 - Críticas sobre conteúdo do livro\n",
    "list_conteudo = []\n",
    "# Grupo 1 - Criticas Sobre serviço da amazom e relacionados\n",
    "list_servico = []\n",
    "\n",
    "for i in range(0,300):\n",
    "\n",
    "    # Pegar cada frase dentro do DataFrame e fazer a limpeza e transformar cada palavra em um valor de uma lista \n",
    "    list_palavras = cleanup(train.Classificacao[i]).lower().split()\n",
    "\n",
    "    # Adicionando cada palavra de cada frase na lista de palavras correspondente\n",
    "\n",
    "    if train.iloc[i,1] == 0:    # Caso seja classificado como críticas sobre o conteúdo do livro\n",
    "        for palavra in list_palavras:\n",
    "            list_conteudo.append(palavra)\n",
    "\n",
    "    if train.iloc[i,1] == 1:    # Caso seja classificado como críticas sobre o serviço da amazon e relacionados\n",
    "        for palavra in list_palavras:\n",
    "            list_servico.append(palavra)\n",
    "\n",
    "print(list_conteudo[:10])\n",
    "print(list_servico[:10])"
   ]
  },
  {
   "cell_type": "markdown",
   "metadata": {},
   "source": [
    "### 3 - Criando a segunda limpagem dos dados"
   ]
  },
  {
   "cell_type": "code",
   "execution_count": null,
   "metadata": {},
   "outputs": [],
   "source": []
  },
  {
   "cell_type": "markdown",
   "metadata": {},
   "source": [
    "### 4 - Criando um pd.Series e criando a tabela de frequência absoluta"
   ]
  },
  {
   "cell_type": "markdown",
   "metadata": {},
   "source": [
    "Criando um pd.Series com as palavras classificadas como ***críticas ao livro*** e criando a sua respectiva tabela de frequência absoluta"
   ]
  },
  {
   "cell_type": "code",
   "execution_count": null,
   "metadata": {},
   "outputs": [],
   "source": [
    "# Guardando as palavras em um pd.Series\n",
    "serie_conteudo = pd.Series(list_conteudo)\n",
    "\n",
    "# Tabela de frequência absoluta\n",
    "tabela_conteudo = serie_conteudo.value_counts()\n",
    "show = tabela_conteudo.head(10)"
   ]
  },
  {
   "cell_type": "markdown",
   "metadata": {},
   "source": [
    "Criando um pd.Series com as palavras classificadas como ***críticas sobre o serviço da amazom e relacionados*** e criando a sua respectiva tabela de frequência absoluta"
   ]
  },
  {
   "cell_type": "code",
   "execution_count": null,
   "metadata": {},
   "outputs": [],
   "source": [
    "# Guardando as palavras em um pd.Series\n",
    "serie_servico = pd.Series(list_servico)\n",
    "\n",
    "# Tabela de frequência absoluta\n",
    "tabela_servico = serie_servico.value_counts()\n",
    "show = tabela_servico.head(10)"
   ]
  },
  {
   "cell_type": "markdown",
   "metadata": {},
   "source": [
    "Criando um pd.series com todas as palavras e criando a sua tabela de frequência absoluta"
   ]
  },
  {
   "cell_type": "code",
   "execution_count": null,
   "metadata": {},
   "outputs": [],
   "source": [
    "# Todas as palavras dos comentários\n",
    "total_palavras = list_conteudo + list_servico\n",
    "\n",
    "# Guardando as palavras em um pd.Series\n",
    "serie_total = pd.Series(total_palavras)\n",
    "\n",
    "# Tabela de frequência absoluta\n",
    "tabela_total = serie_total.value_counts()\n",
    "show = tabela_total.head(10)"
   ]
  },
  {
   "cell_type": "markdown",
   "metadata": {},
   "source": [
    "___\n",
    "### Verificando a performance do Classificador\n",
    "\n",
    "Agora você deve testar o seu classificador com a base de Testes."
   ]
  },
  {
   "cell_type": "markdown",
   "metadata": {},
   "source": [
    "##### 1 - Comentários de teste"
   ]
  },
  {
   "cell_type": "code",
   "execution_count": null,
   "metadata": {},
   "outputs": [],
   "source": [
    "# Criando as listas que armazenarão as palavras das frases nos respectivos grupos\n",
    "\n",
    "lista_teste = []\n",
    "# Grupo 0 - Críticas sobre conteúdo do livro\n",
    "list_conteudo_test = []\n",
    "# Grupo 1 - Criticas Sobre serviço da amazom e relacionados\n",
    "list_servico_test = []\n",
    "\n",
    "for i in range(0,300):\n",
    "\n",
    "    # Pegar cada frase dentro do DataFrame e fazer a limpeza e transformar cada palavra em um valor de uma lista \n",
    "    list_palavras_test = cleanup(test.Classificacao[i]).lower().split()\n",
    "    lista_teste.append(list_palavras_test)\n",
    "\n",
    "    # Adicionando cada palavra de cada frase na lista de palavras correspondente\n",
    "\n",
    "    if test.iloc[i,1] == 0:    # Caso seja classificado como críticas sobre o conteúdo do livro\n",
    "        for palavra in list_palavras_test:\n",
    "            list_conteudo_test.append(palavra)\n",
    "\n",
    "    if test.iloc[i,1] == 1:    # Caso seja classificado como críticas sobre o serviço da amazon e relacionados\n",
    "        for palavra in list_palavras_test:\n",
    "            list_servico_test.append(palavra)\n",
    "\n",
    "\n",
    "print(list_conteudo_test[:10])\n",
    "print(list_servico_test[:10])"
   ]
  },
  {
   "cell_type": "markdown",
   "metadata": {},
   "source": [
    "#### 2 - Coluna 'Type'\n",
    "\n",
    "Criando a coluna ***Type*** responsável por guardar as classificações"
   ]
  },
  {
   "cell_type": "code",
   "execution_count": null,
   "metadata": {},
   "outputs": [],
   "source": [
    "test['Type'] = 'srl'"
   ]
  },
  {
   "cell_type": "markdown",
   "metadata": {},
   "source": [
    "___\n",
    "### Concluindo"
   ]
  },
  {
   "cell_type": "code",
   "execution_count": null,
   "metadata": {},
   "outputs": [],
   "source": []
  },
  {
   "cell_type": "code",
   "execution_count": null,
   "metadata": {},
   "outputs": [],
   "source": []
  },
  {
   "cell_type": "code",
   "execution_count": null,
   "metadata": {},
   "outputs": [],
   "source": []
  },
  {
   "cell_type": "markdown",
   "metadata": {},
   "source": [
    "___\n",
    "### Qualidade do Classificador a partir de novas separações dos tweets entre Treinamento e Teste\n",
    "\n",
    "Caso for fazer esse item do Projeto"
   ]
  },
  {
   "cell_type": "code",
   "execution_count": null,
   "metadata": {},
   "outputs": [],
   "source": []
  },
  {
   "cell_type": "code",
   "execution_count": null,
   "metadata": {},
   "outputs": [],
   "source": []
  },
  {
   "cell_type": "code",
   "execution_count": null,
   "metadata": {},
   "outputs": [],
   "source": []
  },
  {
   "cell_type": "markdown",
   "metadata": {},
   "source": [
    "___\n",
    "## Aperfeiçoamento:\n",
    "\n",
    "Trabalhos que conseguirem pelo menos conceito B vão evoluir em conceito dependendo da quantidade de itens avançados:\n",
    "\n",
    "* IMPLEMENTOU outras limpezas e transformações que não afetem a qualidade da informação contida nos tweets. Ex: stemming, lemmatization, stopwords\n",
    "* CONSIDEROU mais de duas categorias na variável Target e INCREMENTOU a quantidade de notícias, mantendo pelo menos 250 notícias por categoria (OBRIGATÓRIO PARA TRIOS, sem contar como item avançado)\n",
    "* Para Target com duas categorias: CRIOU pelo menos quatro categorias intermediárias de relevância baseadas na probabilidade: ex.: muito relevante, relevante, neutro, irrelevante, muito irrelevante\n",
    "* EXPLICOU porquê não pode usar o próprio classificador para gerar mais amostras de treinamento\n",
    "* PROPÔS diferentes cenários para Naïve Bayes fora do contexto do projeto (pelo menos dois cenários, exceto aqueles já apresentados em sala pelos professores: por exemplo, filtro de spam)\n",
    "* SUGERIU e EXPLICOU melhorias reais com indicações concretas de como implementar (indicar como fazer e indicar material de pesquisa)\n",
    "* FEZ o item Qualidade do Classificador a partir de novas separações das Notícias entre Treinamento e Teste descrito no enunciado do projeto (OBRIGATÓRIO para conceitos A ou A+)"
   ]
  },
  {
   "cell_type": "markdown",
   "metadata": {},
   "source": [
    "___\n",
    "## Referências"
   ]
  },
  {
   "cell_type": "markdown",
   "metadata": {},
   "source": [
    "[Naive Bayes and Text Classification](https://arxiv.org/pdf/1410.5329.pdf)  **Mais completo**\n",
    "\n",
    "[A practical explanation of a Naive Bayes Classifier](https://monkeylearn.com/blog/practical-explanation-naive-bayes-classifier/) **Mais simples**"
   ]
  },
  {
   "cell_type": "code",
   "execution_count": null,
   "metadata": {},
   "outputs": [],
   "source": []
  }
 ],
 "metadata": {
  "kernelspec": {
   "display_name": "Python 3",
   "language": "python",
   "name": "python3"
  },
  "language_info": {
   "codemirror_mode": {
    "name": "ipython",
    "version": 3
   },
   "file_extension": ".py",
   "mimetype": "text/x-python",
   "name": "python",
   "nbconvert_exporter": "python",
   "pygments_lexer": "ipython3",
   "version": "3.9.13"
  }
 },
 "nbformat": 4,
 "nbformat_minor": 4
}
